{
 "cells": [
  {
   "cell_type": "code",
   "execution_count": 1,
   "metadata": {},
   "outputs": [
    {
     "data": {
      "text/plain": [
       "Row(archived=True, author='halftone84', author_cakeday=None, author_flair_css_class=None, author_flair_text=None, body='I read the title and thought of that cheating bitch clown from the glassjaw video', body_html=None, controversiality=0, created=None, created_utc='1309478410', distinguished=None, downs=0, edited='false', gilded=0, id='c22x4bc', link_id='t3_idgji', mod_reports=None, name='t1_c22x4bc', parent_id='t3_idgji', removal_reason=None, replies=None, retrieved_on=1427302517, saved=None, score=1, score_hidden=False, stickied=None, subreddit='AskReddit', subreddit_id='t5_2qh1i', ups=1, user_reports=None)"
      ]
     },
     "execution_count": 1,
     "metadata": {},
     "output_type": "execute_result"
    }
   ],
   "source": [
    "path = 'hdfs://orion11:14001/reddit/sampled_reddit'\n",
    "df = spark.read.json(path)\n",
    "df.head()"
   ]
  },
  {
   "cell_type": "code",
   "execution_count": 2,
   "metadata": {},
   "outputs": [],
   "source": [
    "import spacy \n",
    "from textstat.textstat import textstatistics, easy_word_set, legacy_round"
   ]
  },
  {
   "cell_type": "code",
   "execution_count": 3,
   "metadata": {},
   "outputs": [],
   "source": [
    "# # Splits the text into sentences, using  \n",
    "# # Spacy's sentence segmentation which can  \n",
    "# # be found at https://spacy.io/usage/spacy-101 \n",
    "# def break_sentences(text): \n",
    "#     nlp = spacy.load('en') \n",
    "#     doc = nlp(text) \n",
    "#     return doc.sents "
   ]
  },
  {
   "cell_type": "code",
   "execution_count": 4,
   "metadata": {},
   "outputs": [
    {
     "name": "stdout",
     "output_type": "stream",
     "text": [
      "score_fre: 52.23\n",
      "score_fkr: 12.8\n",
      "score_gfi: 12.38\n"
     ]
    }
   ],
   "source": [
    "import textstat\n",
    "\n",
    "test_data = (\n",
    "    \"Playing games has always been thought to be important to \"\n",
    "    \"the development of well-balanced and creative children; \"\n",
    "    \"however, what part, if any, they should play in the lives \"\n",
    "    \"of adults has never been researched that deeply. I believe \"\n",
    "    \"that playing games is every bit as important for adults \"\n",
    "    \"as for children. Not only is taking time out to play games \"\n",
    "    \"with our children and other adults valuable to building \"\n",
    "    \"interpersonal relationships but is also a wonderful way \"\n",
    "    \"to release built up tension.\"\n",
    ")\n",
    "\n",
    "score_fre = textstat.flesch_reading_ease(test_data)\n",
    "print('score_fre:', score_fre)\n",
    "# textstat.smog_index(test_data)\n",
    "score_fkr = textstat.flesch_kincaid_grade(test_data)\n",
    "print('score_fkr:', score_fkr)\n",
    "# textstat.coleman_liau_index(test_data)\n",
    "# textstat.automated_readability_index(test_data)\n",
    "# textstat.dale_chall_readability_score(test_data)\n",
    "# textstat.difficult_words(test_data)\n",
    "# textstat.linsear_write_formula(test_data)\n",
    "score_gfi = textstat.gunning_fog(test_data)\n",
    "print('score_gfi:', score_gfi)\n",
    "# textstat.text_standard(test_data)"
   ]
  },
  {
   "cell_type": "code",
   "execution_count": 5,
   "metadata": {},
   "outputs": [],
   "source": [
    "df.createOrReplaceTempView('reddit_data')"
   ]
  },
  {
   "cell_type": "code",
   "execution_count": 6,
   "metadata": {},
   "outputs": [],
   "source": [
    "# query = '''\n",
    "# SELECT\n",
    "#   body\n",
    "# FROM\n",
    "#   reddit_data\n",
    "# WHERE\n",
    "#   subreddit = \"technology\"\n",
    "#   AND\n",
    "#   body != \"[deleted]\"\n",
    "# '''\n",
    "# text_tech = spark.sql(query)\n",
    "# text_tech.show()"
   ]
  },
  {
   "cell_type": "code",
   "execution_count": 7,
   "metadata": {},
   "outputs": [],
   "source": [
    "# text_tech.write.saveAsTable('text_tech')\n",
    "# !ls -R spark-warehouse"
   ]
  },
  {
   "cell_type": "code",
   "execution_count": 8,
   "metadata": {},
   "outputs": [],
   "source": [
    "# i = 0\n",
    "# for row in text_tech.rdd.collect():\n",
    "#     text = row['body']\n",
    "#     print(text)\n",
    "#     i += 1\n",
    "#     if i == 2:\n",
    "#         break"
   ]
  },
  {
   "cell_type": "code",
   "execution_count": 9,
   "metadata": {},
   "outputs": [],
   "source": [
    "# text_tech.take(3)"
   ]
  },
  {
   "cell_type": "code",
   "execution_count": 10,
   "metadata": {},
   "outputs": [],
   "source": [
    "# text_tech.head().body"
   ]
  },
  {
   "cell_type": "code",
   "execution_count": 11,
   "metadata": {},
   "outputs": [],
   "source": [
    "# comments = []\n",
    "# i = 0\n",
    "# for row in text_tech.rdd.collect():\n",
    "#     text = row['body']\n",
    "#     comments.append(text)\n",
    "#     i += 1\n",
    "#     if i % 1000 == 0:\n",
    "#         print('i:', i)"
   ]
  },
  {
   "cell_type": "code",
   "execution_count": 12,
   "metadata": {},
   "outputs": [],
   "source": [
    "# comments"
   ]
  },
  {
   "cell_type": "code",
   "execution_count": 13,
   "metadata": {},
   "outputs": [],
   "source": [
    "# score_fre_list = []\n",
    "# score_fkr_list = []\n",
    "# score_gfi_list = []\n",
    "# for text in comments:\n",
    "#     score_fre = textstat.flesch_reading_ease(text)\n",
    "#     score_fre_list.append(score_fre)\n",
    "#     score_fkr = textstat.flesch_kincaid_grade(text)\n",
    "#     score_fkr_list.append(score_fkr)\n",
    "#     score_gfi = textstat.gunning_fog(text)\n",
    "#     score_gfi_list.append(score_gfi)\n",
    "\n",
    "# score_fre_list"
   ]
  },
  {
   "cell_type": "code",
   "execution_count": 14,
   "metadata": {},
   "outputs": [],
   "source": [
    "import numpy as np\n",
    "import pandas as pd\n",
    "\n",
    "import matplotlib.pyplot as plt\n",
    "%matplotlib inline"
   ]
  },
  {
   "cell_type": "code",
   "execution_count": 15,
   "metadata": {},
   "outputs": [],
   "source": [
    "# score_fre_s = pd.Series(score_fre_list)\n",
    "# score_fre_s.describe()"
   ]
  },
  {
   "cell_type": "code",
   "execution_count": 16,
   "metadata": {},
   "outputs": [],
   "source": [
    "# score_fkr_s = pd.Series(score_fkr_list)\n",
    "# score_fkr_s.describe()"
   ]
  },
  {
   "cell_type": "code",
   "execution_count": 17,
   "metadata": {},
   "outputs": [],
   "source": [
    "# score_gfi_s = pd.Series(score_gfi_list)\n",
    "# score_gfi_s.describe()"
   ]
  },
  {
   "cell_type": "code",
   "execution_count": 18,
   "metadata": {},
   "outputs": [],
   "source": [
    "# Flesch reading ease\n",
    "# https://en.wikipedia.org/wiki/Flesch%E2%80%93Kincaid_readability_tests#Flesch%E2%80%93Kincaid_grade_level\n",
    "# −146.77 ~ 121.22 ?\n",
    "\n",
    "# plt.hist(score_fre_list, bins=100, range=(-150, 150))\n",
    "# plt.xlabel('Flesch reading ease')\n",
    "# plt.ylabel('counts')\n",
    "# plt.grid(True)"
   ]
  },
  {
   "cell_type": "code",
   "execution_count": 19,
   "metadata": {},
   "outputs": [],
   "source": [
    "# Flesch–Kincaid grade level\n",
    "# https://en.wikipedia.org/wiki/Flesch%E2%80%93Kincaid_readability_tests#Flesch%E2%80%93Kincaid_grade_level\n",
    "# −3.40 ~ +∞ ?\n",
    "\n",
    "# plt.hist(score_fkr_list, bins=100, range=(-10, 50))\n",
    "# plt.xlabel('Flesch–Kincaid grade level')\n",
    "# plt.ylabel('counts')\n",
    "# plt.grid(True)"
   ]
  },
  {
   "cell_type": "code",
   "execution_count": 20,
   "metadata": {},
   "outputs": [],
   "source": [
    "# Gunning fog index\n",
    "# https://en.wikipedia.org/wiki/Gunning_fog_index\n",
    "\n",
    "# plt.hist(score_gfi_list, bins=100, range=(-10, 50))\n",
    "# plt.xlabel('Gunning Fog Index')\n",
    "# plt.ylabel('counts')\n",
    "# plt.grid(True)"
   ]
  },
  {
   "cell_type": "code",
   "execution_count": null,
   "metadata": {},
   "outputs": [],
   "source": []
  },
  {
   "cell_type": "code",
   "execution_count": 21,
   "metadata": {},
   "outputs": [
    {
     "name": "stdout",
     "output_type": "stream",
     "text": [
      "+--------------------+\n",
      "|                body|\n",
      "+--------------------+\n",
      "|does it run os9? ...|\n",
      "|       How exactly? |\n",
      "|It's you're. And ...|\n",
      "|your macbook will...|\n",
      "|No, it was a whil...|\n",
      "|Did you know that...|\n",
      "|...Would I like s...|\n",
      "|Obvious counter-t...|\n",
      "|It supports Class...|\n",
      "|I don't like grow...|\n",
      "|I have the Belkin...|\n",
      "|I have personally...|\n",
      "|I have  13\" 2010 ...|\n",
      "|I bought a 13\" mb...|\n",
      "|I love learning n...|\n",
      "|Hehe, screenshot,...|\n",
      "|I've been missing...|\n",
      "|http://www.apple....|\n",
      "|Yes, you need the...|\n",
      "|Yes. Running it o...|\n",
      "+--------------------+\n",
      "only showing top 20 rows\n",
      "\n"
     ]
    }
   ],
   "source": [
    "query = '''\n",
    "SELECT\n",
    "  body\n",
    "FROM\n",
    "  reddit_data\n",
    "WHERE\n",
    "  subreddit = \"mac\"\n",
    "  AND\n",
    "  body != \"[deleted]\"\n",
    "'''\n",
    "text_mac = spark.sql(query)\n",
    "text_mac.show()"
   ]
  },
  {
   "cell_type": "code",
   "execution_count": 22,
   "metadata": {},
   "outputs": [
    {
     "name": "stdout",
     "output_type": "stream",
     "text": [
      "+--------------------+\n",
      "|                body|\n",
      "+--------------------+\n",
      "|find said font on...|\n",
      "|I think people st...|\n",
      "|I also have this ...|\n",
      "|RAM is the most c...|\n",
      "|PIII 863 mhz is t...|\n",
      "|...control click....|\n",
      "|pslist will work ...|\n",
      "|Note: Use this as...|\n",
      "|Do you use Skype ...|\n",
      "|Ah HA! I didnt no...|\n",
      "|You can schedule ...|\n",
      "|Not to mention wa...|\n",
      "|That's perfectly ...|\n",
      "|How would my PC l...|\n",
      "|  Who makes Windows?|\n",
      "|Don't think, just...|\n",
      "|We've got some pr...|\n",
      "|Does the drive me...|\n",
      "|Windows xp mode. ...|\n",
      "|If that home prem...|\n",
      "+--------------------+\n",
      "only showing top 20 rows\n",
      "\n"
     ]
    }
   ],
   "source": [
    "query = '''\n",
    "SELECT\n",
    "  body\n",
    "FROM\n",
    "  reddit_data\n",
    "WHERE\n",
    "  subreddit = \"windows\"\n",
    "  AND\n",
    "  body != \"[deleted]\"\n",
    "'''\n",
    "text_win = spark.sql(query)\n",
    "text_win.show()"
   ]
  },
  {
   "cell_type": "code",
   "execution_count": 23,
   "metadata": {},
   "outputs": [
    {
     "name": "stdout",
     "output_type": "stream",
     "text": [
      "i: 1000\n",
      "i: 2000\n",
      "i: 3000\n",
      "i: 4000\n",
      "i: 5000\n",
      "i: 6000\n",
      "i: 7000\n",
      "i: 8000\n",
      "i: 9000\n",
      "i: 10000\n",
      "i: 11000\n",
      "i: 12000\n",
      "i: 13000\n",
      "i: 14000\n",
      "i: 15000\n",
      "i: 16000\n",
      "i: 17000\n",
      "i: 18000\n",
      "i: 19000\n",
      "i: 20000\n",
      "i: 21000\n",
      "i: 22000\n",
      "i: 23000\n",
      "i: 24000\n",
      "i: 25000\n",
      "i: 26000\n",
      "i: 27000\n",
      "i: 28000\n",
      "i: 29000\n",
      "i: 30000\n",
      "i: 31000\n",
      "i: 32000\n",
      "i: 33000\n",
      "i: 34000\n",
      "i: 35000\n",
      "i: 36000\n",
      "i: 37000\n",
      "i: 38000\n",
      "i: 39000\n"
     ]
    }
   ],
   "source": [
    "comments_mac = []\n",
    "i = 0\n",
    "for row in text_mac.rdd.collect():\n",
    "    text = row['body']\n",
    "    comments_mac.append(text)\n",
    "    i += 1\n",
    "    if i % 1000 == 0:\n",
    "        print('i:', i)"
   ]
  },
  {
   "cell_type": "code",
   "execution_count": 24,
   "metadata": {},
   "outputs": [],
   "source": [
    "comments_win = []\n",
    "for row in text_win.rdd.collect():\n",
    "    text = row['body']\n",
    "    comments_win.append(text)"
   ]
  },
  {
   "cell_type": "code",
   "execution_count": 44,
   "metadata": {
    "scrolled": true
   },
   "outputs": [
    {
     "name": "stdout",
     "output_type": "stream",
     "text": [
      "fre:\n",
      " count    39827.000000\n",
      "mean        63.535867\n",
      "std         72.734586\n",
      "min      -2755.190000\n",
      "25%         57.270000\n",
      "50%         74.190000\n",
      "75%         87.050000\n",
      "max        206.840000\n",
      "dtype: float64\n",
      "fkr:\n",
      " count    39827.000000\n",
      "mean         9.023949\n",
      "std         12.219784\n",
      "min        -15.700000\n",
      "25%          3.800000\n",
      "50%          6.800000\n",
      "75%         10.500000\n",
      "max        397.800000\n",
      "dtype: float64\n",
      "gfi:\n",
      " count    39827.000000\n",
      "mean        10.043832\n",
      "std          9.092863\n",
      "min          0.000000\n",
      "25%          5.200000\n",
      "50%          8.400000\n",
      "75%         12.000000\n",
      "max        235.500000\n",
      "dtype: float64\n"
     ]
    }
   ],
   "source": [
    "# Get three scores and their statistic. \n",
    "score_fre_list_mac = []\n",
    "score_fkr_list_mac = []\n",
    "score_gfi_list_mac = []\n",
    "for text in comments_mac:\n",
    "    score_fre = textstat.flesch_reading_ease(text)\n",
    "    score_fre_list_mac.append(score_fre)\n",
    "    score_fkr = textstat.flesch_kincaid_grade(text)\n",
    "    score_fkr_list_mac.append(score_fkr)\n",
    "    score_gfi = textstat.gunning_fog(text)\n",
    "    score_gfi_list_mac.append(score_gfi)\n",
    "\n",
    "score_fre_s = pd.Series(score_fre_list_mac)\n",
    "print('fre:\\n', score_fre_s.describe())\n",
    "score_fkr_s = pd.Series(score_fkr_list_mac)\n",
    "print('fkr:\\n', score_fkr_s.describe())\n",
    "score_gfi_s = pd.Series(score_gfi_list_mac)\n",
    "print('gfi:\\n', score_gfi_s.describe())    "
   ]
  },
  {
   "cell_type": "code",
   "execution_count": 45,
   "metadata": {},
   "outputs": [
    {
     "name": "stdout",
     "output_type": "stream",
     "text": [
      "fre:\n",
      " count    34539.000000\n",
      "mean        58.220270\n",
      "std         87.176654\n",
      "min      -1993.790000\n",
      "25%         53.040000\n",
      "50%         71.140000\n",
      "75%         84.780000\n",
      "max        206.840000\n",
      "dtype: float64\n",
      "fkr:\n",
      " count    34539.000000\n",
      "mean        10.278277\n",
      "std         15.041154\n",
      "min        -15.700000\n",
      "25%          4.200000\n",
      "50%          7.400000\n",
      "75%         11.700000\n",
      "max        370.700000\n",
      "dtype: float64\n",
      "gfi:\n",
      " count    34539.000000\n",
      "mean        11.096701\n",
      "std         11.486893\n",
      "min          0.000000\n",
      "25%          5.600000\n",
      "50%          8.900000\n",
      "75%         13.200000\n",
      "max        380.500000\n",
      "dtype: float64\n"
     ]
    }
   ],
   "source": [
    "score_fre_list_win = []\n",
    "score_fkr_list_win = []\n",
    "score_gfi_list_win = []\n",
    "for text in comments_win:\n",
    "    score_fre = textstat.flesch_reading_ease(text)\n",
    "    score_fre_list_win.append(score_fre)\n",
    "    score_fkr = textstat.flesch_kincaid_grade(text)\n",
    "    score_fkr_list_win.append(score_fkr)\n",
    "    score_gfi = textstat.gunning_fog(text)\n",
    "    score_gfi_list_win.append(score_gfi)\n",
    "\n",
    "score_fre_s = pd.Series(score_fre_list_win)\n",
    "print('fre:\\n', score_fre_s.describe())\n",
    "score_fkr_s = pd.Series(score_fkr_list_win)\n",
    "print('fkr:\\n', score_fkr_s.describe())\n",
    "score_gfi_s = pd.Series(score_gfi_list_win)\n",
    "print('gfi:\\n', score_gfi_s.describe())    "
   ]
  },
  {
   "cell_type": "code",
   "execution_count": 40,
   "metadata": {
    "scrolled": true
   },
   "outputs": [
    {
     "data": {
      "text/plain": [
       "39827"
      ]
     },
     "execution_count": 40,
     "metadata": {},
     "output_type": "execute_result"
    }
   ],
   "source": [
    "len(comments_mac)"
   ]
  },
  {
   "cell_type": "code",
   "execution_count": 41,
   "metadata": {},
   "outputs": [
    {
     "data": {
      "text/plain": [
       "34539"
      ]
     },
     "execution_count": 41,
     "metadata": {},
     "output_type": "execute_result"
    }
   ],
   "source": [
    "len(comments_win)"
   ]
  },
  {
   "cell_type": "code",
   "execution_count": 54,
   "metadata": {},
   "outputs": [
    {
     "data": {
      "image/png": "[encoded data removed]",
      "text/plain": [
       "<Figure size 432x288 with 1 Axes>"
      ]
     },
     "metadata": {
      "needs_background": "light"
     },
     "output_type": "display_data"
    }
   ],
   "source": [
    "# Flesch reading ease\n",
    "# https://en.wikipedia.org/wiki/Flesch%E2%80%93Kincaid_readability_tests#Flesch%E2%80%93Kincaid_grade_level\n",
    "# −146.77 ~ 121.22 ?\n",
    "\n",
    "plt.hist(score_fre_list_mac, bins=100, range=(-150, 150), alpha=0.5, color='red')\n",
    "plt.hist(score_fre_list_win, bins=100, range=(-150, 150), alpha=0.5, color='blue')\n",
    "plt.xlabel('Flesch reading ease')\n",
    "plt.ylabel('counts')\n",
    "plt.legend(['mac','windows'])\n",
    "plt.grid(True)"
   ]
  },
  {
   "cell_type": "code",
   "execution_count": 55,
   "metadata": {},
   "outputs": [
    {
     "data": {
      "image/png": "[encoded data removed]",
      "text/plain": [
       "<Figure size 432x288 with 1 Axes>"
      ]
     },
     "metadata": {
      "needs_background": "light"
     },
     "output_type": "display_data"
    }
   ],
   "source": [
    "# Flesch–Kincaid grade level\n",
    "# https://en.wikipedia.org/wiki/Flesch%E2%80%93Kincaid_readability_tests#Flesch%E2%80%93Kincaid_grade_level\n",
    "# −3.40 ~ +∞ ?\n",
    "\n",
    "plt.hist(score_fkr_list_mac, bins=100, range=(-10, 50), alpha=0.5, color='red')\n",
    "plt.hist(score_fkr_list_win, bins=100, range=(-10, 50), alpha=0.5, color='blue')\n",
    "plt.xlabel('Flesch–Kincaid grade level')\n",
    "plt.ylabel('counts')\n",
    "plt.legend(['mac','windows'])\n",
    "plt.grid(True)"
   ]
  },
  {
   "cell_type": "code",
   "execution_count": 56,
   "metadata": {},
   "outputs": [
    {
     "data": {
      "image/png": "[encoded data removed]",
      "text/plain": [
       "<Figure size 432x288 with 1 Axes>"
      ]
     },
     "metadata": {
      "needs_background": "light"
     },
     "output_type": "display_data"
    }
   ],
   "source": [
    "# Gunning fog index\n",
    "# https://en.wikipedia.org/wiki/Gunning_fog_index\n",
    "\n",
    "plt.hist(score_gfi_list_mac, bins=100, range=(-10, 50), alpha=0.5, color='red')\n",
    "plt.hist(score_gfi_list_win, bins=100, range=(-10, 50), alpha=0.5, color='blue')\n",
    "plt.xlabel('Gunning Fog Index')\n",
    "plt.ylabel('counts')\n",
    "plt.legend(['mac','windows'])\n",
    "plt.grid(True)"
   ]
  },
  {
   "cell_type": "code",
   "execution_count": null,
   "metadata": {},
   "outputs": [],
   "source": []
  },
  {
   "cell_type": "code",
   "execution_count": null,
   "metadata": {},
   "outputs": [],
   "source": []
  },
  {
   "cell_type": "code",
   "execution_count": null,
   "metadata": {},
   "outputs": [],
   "source": []
  },
  {
   "cell_type": "code",
   "execution_count": null,
   "metadata": {},
   "outputs": [],
   "source": []
  },
  {
   "cell_type": "code",
   "execution_count": null,
   "metadata": {},
   "outputs": [],
   "source": []
  },
  {
   "cell_type": "code",
   "execution_count": null,
   "metadata": {},
   "outputs": [],
   "source": []
  },
  {
   "cell_type": "code",
   "execution_count": null,
   "metadata": {},
   "outputs": [],
   "source": []
  },
  {
   "cell_type": "code",
   "execution_count": null,
   "metadata": {},
   "outputs": [],
   "source": []
  },
  {
   "cell_type": "code",
   "execution_count": null,
   "metadata": {},
   "outputs": [],
   "source": []
  }
 ],
 "metadata": {
  "kernelspec": {
   "display_name": "Python 3",
   "language": "python",
   "name": "python3"
  },
  "language_info": {
   "codemirror_mode": {
    "name": "ipython",
    "version": 3
   },
   "file_extension": ".py",
   "mimetype": "text/x-python",
   "name": "python",
   "nbconvert_exporter": "python",
   "pygments_lexer": "ipython3",
   "version": "3.7.3"
  }
 },
 "nbformat": 4,
 "nbformat_minor": 2
}
